{
 "cells": [
  {
   "cell_type": "code",
   "execution_count": 1,
   "id": "b9f3f8fc-94ab-4534-afdd-c4df7a02b63a",
   "metadata": {},
   "outputs": [],
   "source": [
    "import pandas as pd\n",
    "import re\n",
    "from datetime import datetime"
   ]
  },
  {
   "cell_type": "code",
   "execution_count": 3,
   "id": "3da3435b-b60e-4e2a-ad32-8d787553fc1b",
   "metadata": {},
   "outputs": [],
   "source": [
    "log_file_path = \"../dados/web-server-access-logs_10k.log\"\n",
    "\n",
    "log_lines = []\n",
    "\n",
    "with open(log_file_path, 'r') as file:\n",
    "    for line in file:\n",
    "        line = line.strip()\n",
    "        log_lines.append(line)"
   ]
  },
  {
   "cell_type": "code",
   "execution_count": 4,
   "id": "b25e096c-3385-466b-b99d-5c871523d059",
   "metadata": {},
   "outputs": [],
   "source": [
    "df = pd.DataFrame(log_lines, columns=['Log Line'])"
   ]
  },
  {
   "cell_type": "code",
   "execution_count": 5,
   "id": "fb6264c7-5b14-4fe6-9041-b47dfc1c6487",
   "metadata": {},
   "outputs": [],
   "source": [
    "df[['ID', 'Log Entry']] = df['Log Line'].str.split(',', n=1, expand=True)\n",
    "df = df.drop('Log Line', axis=1)\n",
    "\n",
    "df['Log Entry'] = df['Log Entry'].str.strip('\"')\n",
    "df['ID'] = df['ID'].str.strip('\"')"
   ]
  },
  {
   "cell_type": "code",
   "execution_count": 6,
   "id": "5e4dfc13-99a1-4609-ad3b-4330567e2cc9",
   "metadata": {},
   "outputs": [],
   "source": [
    "log_pattern = r'(\\S+) - - \\[([\\w:/]+\\s[+\\-]\\d{4})\\] \"(\\S+) (\\S+) (\\S+)\" (\\d{3}) (\\d+) \"([^\"]*)\" \"([^\"]*)\"'"
   ]
  },
  {
   "cell_type": "code",
   "execution_count": 7,
   "id": "826660b9-fde5-448d-8a1c-7c077af6670d",
   "metadata": {},
   "outputs": [],
   "source": [
    "def parse_log_entry(log_entry):\n",
    "    log_entry = re.sub(r'\"\"', '\"', log_entry)\n",
    "    match = re.match(log_pattern, log_entry)\n",
    "    if match:\n",
    "        ip_address = match.group(1).strip('\"')\n",
    "        date_time_str = match.group(2)\n",
    "        method = match.group(3)\n",
    "        requested_url = match.group(4)\n",
    "        http_version = match.group(5)\n",
    "        http_status = match.group(6)\n",
    "        bytes_transferred = match.group(7)\n",
    "        referrer = match.group(8).strip('\"')\n",
    "        user_agent = match.group(9).strip('\"')\n",
    "\n",
    "        date_time = datetime.strptime(date_time_str, '%d/%b/%Y:%H:%M:%S %z')\n",
    "\n",
    "        return pd.Series([\n",
    "            ip_address,\n",
    "            date_time,\n",
    "            method,\n",
    "            requested_url,\n",
    "            http_version,\n",
    "            http_status,\n",
    "            bytes_transferred,\n",
    "            referrer,\n",
    "            user_agent\n",
    "        ], index=['IP Address', 'Date/Time', 'Method', 'Requested URL', 'HTTP Version', 'HTTP Status', 'Bytes Transferred', 'Referrer', 'User Agent'])\n",
    "    else:\n",
    "        return pd.Series([None]*9, index=['IP Address', 'Date/Time', 'Method', 'Requested URL', 'HTTP Version', 'HTTP Status', 'Bytes Transferred', 'Referrer', 'User Agent'])\n"
   ]
  },
  {
   "cell_type": "code",
   "execution_count": 8,
   "id": "32b66b80-0612-44c2-8d5a-731189be6b85",
   "metadata": {},
   "outputs": [],
   "source": [
    "df[['IP Address', 'Date/Time', 'Method', 'Requested URL', 'HTTP Version', 'HTTP Status', 'Bytes Transferred', 'Referrer', 'User Agent']] = df['Log Entry'].apply(parse_log_entry)"
   ]
  },
  {
   "cell_type": "code",
   "execution_count": 9,
   "id": "720ac47a-bb28-4476-a748-a28d99376b50",
   "metadata": {},
   "outputs": [],
   "source": [
    "df = df.drop('Log Entry', axis=1)"
   ]
  },
  {
   "cell_type": "code",
   "execution_count": 10,
   "id": "ee5900a8-c807-4b19-be93-c86196ff435b",
   "metadata": {},
   "outputs": [],
   "source": [
    "df.to_csv('../dados/logs.csv')"
   ]
  },
  {
   "cell_type": "code",
   "execution_count": null,
   "id": "3fd76c06-f628-4a0b-84c1-f811af407fee",
   "metadata": {},
   "outputs": [],
   "source": []
  }
 ],
 "metadata": {
  "kernelspec": {
   "display_name": "Python 3 (ipykernel)",
   "language": "python",
   "name": "python3"
  },
  "language_info": {
   "codemirror_mode": {
    "name": "ipython",
    "version": 3
   },
   "file_extension": ".py",
   "mimetype": "text/x-python",
   "name": "python",
   "nbconvert_exporter": "python",
   "pygments_lexer": "ipython3",
   "version": "3.12.4"
  }
 },
 "nbformat": 4,
 "nbformat_minor": 5
}
