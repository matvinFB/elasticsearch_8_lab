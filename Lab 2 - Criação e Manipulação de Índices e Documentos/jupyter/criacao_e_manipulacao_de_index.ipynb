{
 "cells": [
  {
   "cell_type": "code",
   "execution_count": 36,
   "id": "24ec604c-5cf8-460a-8df6-b465b3506c9e",
   "metadata": {},
   "outputs": [],
   "source": [
    "import pandas as pd\n",
    "import requests\n",
    "import json"
   ]
  },
  {
   "cell_type": "code",
   "execution_count": 9,
   "id": "99436e40-7632-4792-a92b-310277d39d6a",
   "metadata": {},
   "outputs": [],
   "source": [
    "logs = pd.read_csv(\"../dados/logs.csv\")"
   ]
  },
  {
   "cell_type": "code",
   "execution_count": 10,
   "id": "e9fbf101-f85b-4940-a978-f3aa3c8df840",
   "metadata": {
    "scrolled": true
   },
   "outputs": [
    {
     "data": {
      "text/html": [
       "<div>\n",
       "<style scoped>\n",
       "    .dataframe tbody tr th:only-of-type {\n",
       "        vertical-align: middle;\n",
       "    }\n",
       "\n",
       "    .dataframe tbody tr th {\n",
       "        vertical-align: top;\n",
       "    }\n",
       "\n",
       "    .dataframe thead th {\n",
       "        text-align: right;\n",
       "    }\n",
       "</style>\n",
       "<table border=\"1\" class=\"dataframe\">\n",
       "  <thead>\n",
       "    <tr style=\"text-align: right;\">\n",
       "      <th></th>\n",
       "      <th>ID</th>\n",
       "      <th>IP Address</th>\n",
       "      <th>Date/Time</th>\n",
       "      <th>Method</th>\n",
       "      <th>Requested URL</th>\n",
       "      <th>HTTP Version</th>\n",
       "      <th>HTTP Status</th>\n",
       "      <th>Bytes Transferred</th>\n",
       "      <th>Referrer</th>\n",
       "      <th>User Agent</th>\n",
       "    </tr>\n",
       "  </thead>\n",
       "  <tbody>\n",
       "    <tr>\n",
       "      <th>0</th>\n",
       "      <td>NaN</td>\n",
       "      <td>54.36.149.41</td>\n",
       "      <td>2019-01-22 03:56:14+03:30</td>\n",
       "      <td>GET</td>\n",
       "      <td>/filter/27|13%20%D9%85%DA%AF%D8%A7%D9%BE%DB%8C...</td>\n",
       "      <td>HTTP/1.1</td>\n",
       "      <td>200</td>\n",
       "      <td>30577</td>\n",
       "      <td>-</td>\n",
       "      <td>Mozilla/5.0 (compatible; AhrefsBot/6.1; +http:...</td>\n",
       "    </tr>\n",
       "    <tr>\n",
       "      <th>1</th>\n",
       "      <td>3089189.0</td>\n",
       "      <td>5.210.140.170</td>\n",
       "      <td>2019-01-23 12:43:40+03:30</td>\n",
       "      <td>GET</td>\n",
       "      <td>/apple-touch-icon-120x120.png</td>\n",
       "      <td>HTTP/1.1</td>\n",
       "      <td>404</td>\n",
       "      <td>33679</td>\n",
       "      <td>-</td>\n",
       "      <td>MobileSafari/604.1 CFNetwork/976 Darwin/18.2.0</td>\n",
       "    </tr>\n",
       "    <tr>\n",
       "      <th>2</th>\n",
       "      <td>6073343.0</td>\n",
       "      <td>66.249.66.91</td>\n",
       "      <td>2019-01-24 21:17:43+03:30</td>\n",
       "      <td>GET</td>\n",
       "      <td>/static/images/guarantees/bestPrice.png</td>\n",
       "      <td>HTTP/1.1</td>\n",
       "      <td>304</td>\n",
       "      <td>0</td>\n",
       "      <td>-</td>\n",
       "      <td>Googlebot-Image/1.0</td>\n",
       "    </tr>\n",
       "    <tr>\n",
       "      <th>3</th>\n",
       "      <td>9392152.0</td>\n",
       "      <td>5.200.69.130</td>\n",
       "      <td>2019-01-26 13:54:06+03:30</td>\n",
       "      <td>GET</td>\n",
       "      <td>/image/1/brand</td>\n",
       "      <td>HTTP/1.1</td>\n",
       "      <td>200</td>\n",
       "      <td>3924</td>\n",
       "      <td>https://www.zanbil.ir/filter/b1,p62</td>\n",
       "      <td>Mozilla/5.0 (Windows NT 10.0; Win64; x64) Appl...</td>\n",
       "    </tr>\n",
       "    <tr>\n",
       "      <th>4</th>\n",
       "      <td>4366289.0</td>\n",
       "      <td>5.208.174.46</td>\n",
       "      <td>2019-01-23 22:52:04+03:30</td>\n",
       "      <td>GET</td>\n",
       "      <td>/image/1221/mainSlideMobile</td>\n",
       "      <td>HTTP/1.1</td>\n",
       "      <td>200</td>\n",
       "      <td>68387</td>\n",
       "      <td>https://www.zanbil.ir/m/browse/cell-phone/%DA%...</td>\n",
       "      <td>Mozilla/5.0 (Linux; Android 6.0.1; SAMSUNG SM-...</td>\n",
       "    </tr>\n",
       "  </tbody>\n",
       "</table>\n",
       "</div>"
      ],
      "text/plain": [
       "          ID     IP Address                  Date/Time Method  \\\n",
       "0        NaN   54.36.149.41  2019-01-22 03:56:14+03:30    GET   \n",
       "1  3089189.0  5.210.140.170  2019-01-23 12:43:40+03:30    GET   \n",
       "2  6073343.0   66.249.66.91  2019-01-24 21:17:43+03:30    GET   \n",
       "3  9392152.0   5.200.69.130  2019-01-26 13:54:06+03:30    GET   \n",
       "4  4366289.0   5.208.174.46  2019-01-23 22:52:04+03:30    GET   \n",
       "\n",
       "                                       Requested URL HTTP Version  \\\n",
       "0  /filter/27|13%20%D9%85%DA%AF%D8%A7%D9%BE%DB%8C...     HTTP/1.1   \n",
       "1                      /apple-touch-icon-120x120.png     HTTP/1.1   \n",
       "2            /static/images/guarantees/bestPrice.png     HTTP/1.1   \n",
       "3                                     /image/1/brand     HTTP/1.1   \n",
       "4                        /image/1221/mainSlideMobile     HTTP/1.1   \n",
       "\n",
       "   HTTP Status  Bytes Transferred  \\\n",
       "0          200              30577   \n",
       "1          404              33679   \n",
       "2          304                  0   \n",
       "3          200               3924   \n",
       "4          200              68387   \n",
       "\n",
       "                                            Referrer  \\\n",
       "0                                                  -   \n",
       "1                                                  -   \n",
       "2                                                  -   \n",
       "3                https://www.zanbil.ir/filter/b1,p62   \n",
       "4  https://www.zanbil.ir/m/browse/cell-phone/%DA%...   \n",
       "\n",
       "                                          User Agent  \n",
       "0  Mozilla/5.0 (compatible; AhrefsBot/6.1; +http:...  \n",
       "1     MobileSafari/604.1 CFNetwork/976 Darwin/18.2.0  \n",
       "2                                Googlebot-Image/1.0  \n",
       "3  Mozilla/5.0 (Windows NT 10.0; Win64; x64) Appl...  \n",
       "4  Mozilla/5.0 (Linux; Android 6.0.1; SAMSUNG SM-...  "
      ]
     },
     "execution_count": 10,
     "metadata": {},
     "output_type": "execute_result"
    }
   ],
   "source": [
    "logs.head(5)"
   ]
  },
  {
   "cell_type": "code",
   "execution_count": null,
   "id": "292121ab-f012-46af-8877-86a61d65b895",
   "metadata": {},
   "outputs": [],
   "source": []
  },
  {
   "cell_type": "code",
   "execution_count": 14,
   "id": "a1804665-764c-4cfb-b273-ed37294d5dc6",
   "metadata": {},
   "outputs": [
    {
     "data": {
      "text/plain": [
       "ID                                                        3089189.0\n",
       "IP Address                                            5.210.140.170\n",
       "Date/Time                                 2019-01-23 12:43:40+03:30\n",
       "Method                                                          GET\n",
       "Requested URL                         /apple-touch-icon-120x120.png\n",
       "HTTP Version                                               HTTP/1.1\n",
       "HTTP Status                                                     404\n",
       "Bytes Transferred                                             33679\n",
       "Referrer                                                          -\n",
       "User Agent           MobileSafari/604.1 CFNetwork/976 Darwin/18.2.0\n",
       "Name: 1, dtype: object"
      ]
     },
     "execution_count": 14,
     "metadata": {},
     "output_type": "execute_result"
    }
   ],
   "source": [
    "logs.iloc[1]"
   ]
  },
  {
   "cell_type": "code",
   "execution_count": 13,
   "id": "83d57eaf-8d2e-4888-8152-c3c28dad0a17",
   "metadata": {},
   "outputs": [
    {
     "data": {
      "text/plain": [
       "'{\"ID\":null,\"IP Address\":\"54.36.149.41\",\"Date\\\\/Time\":\"2019-01-22 03:56:14+03:30\",\"Method\":\"GET\",\"Requested URL\":\"\\\\/filter\\\\/27|13%20%D9%85%DA%AF%D8%A7%D9%BE%DB%8C%DA%A9%D8%B3%D9%84,27|%DA%A9%D9%85%D8%AA%D8%B1%20%D8%A7%D8%B2%205%20%D9%85%DA%AF%D8%A7%D9%BE%DB%8C%DA%A9%D8%B3%D9%84,p53\",\"HTTP Version\":\"HTTP\\\\/1.1\",\"HTTP Status\":200,\"Bytes Transferred\":30577,\"Referrer\":\"-\",\"User Agent\":\"Mozilla\\\\/5.0 (compatible; AhrefsBot\\\\/6.1; +http:\\\\/\\\\/ahrefs.com\\\\/robot\\\\/)\"}'"
      ]
     },
     "execution_count": 13,
     "metadata": {},
     "output_type": "execute_result"
    }
   ],
   "source": [
    "logs.iloc[0].to_json()"
   ]
  },
  {
   "cell_type": "code",
   "execution_count": 47,
   "id": "2875f381-3361-4f4f-8375-bcae7b0f81a1",
   "metadata": {},
   "outputs": [],
   "source": [
    "headers = {\n",
    "    \"Content-Type\": \"application/json\"\n",
    "}"
   ]
  },
  {
   "cell_type": "code",
   "execution_count": 48,
   "id": "3a72b35c-6fd3-464f-8c16-a17514e615ce",
   "metadata": {},
   "outputs": [],
   "source": [
    "body_index_creation = {\n",
    "    \"settings\": {\n",
    "        \"number_of_shards\": 1,\n",
    "        \"number_of_replicas\": 1\n",
    "    },\n",
    "    \"mappings\": {\n",
    "        \"properties\": {\n",
    "          \"ID\": { \"type\": \"integer\" },\n",
    "          \"IP Address\": { \"type\": \"ip\" },\n",
    "          \"Date/Time\": { \"type\": \"date\" },\n",
    "          \"Method\": { \"type\": \"keyword\" },\n",
    "          \"Requested URL\": { \"type\": \"text\" },\n",
    "          \"HTTP Version\": { \"type\": \"keyword\" },\n",
    "          \"HTTP Status\": { \"type\": \"integer\" },\n",
    "          \"Bytes Transferred\": { \"type\": \"integer\" },\n",
    "          \"Referrer\": { \"type\": \"text\" },\n",
    "          \"User Agent\": { \"type\": \"text\" },\n",
    "        }\n",
    "    }\n",
    "}"
   ]
  },
  {
   "cell_type": "code",
   "execution_count": 45,
   "id": "7bb89342-18f1-4db7-ad93-031d3bec3a14",
   "metadata": {},
   "outputs": [],
   "source": [
    "response = requests.put(\"http://192.168.0.32:9200/logs\", headers=headers, data=json.dumps(body_index_creation))"
   ]
  },
  {
   "cell_type": "code",
   "execution_count": 46,
   "id": "6954bc22-5014-4eee-a694-72cedb473f99",
   "metadata": {},
   "outputs": [
    {
     "data": {
      "text/plain": [
       "'{\"acknowledged\":true,\"shards_acknowledged\":true,\"index\":\"logs\"}'"
      ]
     },
     "execution_count": 46,
     "metadata": {},
     "output_type": "execute_result"
    }
   ],
   "source": [
    "response.text"
   ]
  },
  {
   "cell_type": "code",
   "execution_count": 50,
   "id": "99c347ff-5cf8-4158-bc53-18d12565d109",
   "metadata": {},
   "outputs": [
    {
     "data": {
      "text/plain": [
       "200"
      ]
     },
     "execution_count": 50,
     "metadata": {},
     "output_type": "execute_result"
    }
   ],
   "source": [
    "response.status_code"
   ]
  },
  {
   "cell_type": "code",
   "execution_count": 51,
   "id": "ea015bb6-fc18-4dc8-9715-4ddadb928b49",
   "metadata": {},
   "outputs": [],
   "source": [
    "response = requests.get(\"http://192.168.0.32:9200/logs/_mappings\", headers=headers)"
   ]
  },
  {
   "cell_type": "code",
   "execution_count": 55,
   "id": "1b9b31d6-f967-4097-96ed-f1af95b9266c",
   "metadata": {},
   "outputs": [
    {
     "name": "stdout",
     "output_type": "stream",
     "text": [
      "{\n",
      "  \"logs\": {\n",
      "    \"mappings\": {\n",
      "      \"properties\": {\n",
      "        \"Bytes Transferred\": {\n",
      "          \"type\": \"integer\"\n",
      "        },\n",
      "        \"Date/Time\": {\n",
      "          \"type\": \"date\"\n",
      "        },\n",
      "        \"HTTP Status\": {\n",
      "          \"type\": \"integer\"\n",
      "        },\n",
      "        \"HTTP Version\": {\n",
      "          \"type\": \"keyword\"\n",
      "        },\n",
      "        \"ID\": {\n",
      "          \"type\": \"integer\"\n",
      "        },\n",
      "        \"IP Address\": {\n",
      "          \"type\": \"ip\"\n",
      "        },\n",
      "        \"Method\": {\n",
      "          \"type\": \"keyword\"\n",
      "        },\n",
      "        \"Referrer\": {\n",
      "          \"type\": \"text\"\n",
      "        },\n",
      "        \"Requested URL\": {\n",
      "          \"type\": \"text\"\n",
      "        },\n",
      "        \"User Agent\": {\n",
      "          \"type\": \"text\"\n",
      "        }\n",
      "      }\n",
      "    }\n",
      "  }\n",
      "}\n"
     ]
    }
   ],
   "source": [
    "parsed = json.loads(response.text)\n",
    "print(json.dumps(parsed, indent=2))"
   ]
  },
  {
   "cell_type": "code",
   "execution_count": null,
   "id": "606bb07c-14d8-4cba-82fc-ddbc86b4a53f",
   "metadata": {},
   "outputs": [],
   "source": []
  }
 ],
 "metadata": {
  "kernelspec": {
   "display_name": "Python 3 (ipykernel)",
   "language": "python",
   "name": "python3"
  },
  "language_info": {
   "codemirror_mode": {
    "name": "ipython",
    "version": 3
   },
   "file_extension": ".py",
   "mimetype": "text/x-python",
   "name": "python",
   "nbconvert_exporter": "python",
   "pygments_lexer": "ipython3",
   "version": "3.12.4"
  }
 },
 "nbformat": 4,
 "nbformat_minor": 5
}
